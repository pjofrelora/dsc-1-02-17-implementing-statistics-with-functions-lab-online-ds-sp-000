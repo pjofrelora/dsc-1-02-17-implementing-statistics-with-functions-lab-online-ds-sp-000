{
 "cells": [
  {
   "cell_type": "markdown",
   "metadata": {},
   "source": [
    "# Implementing Statistics with Functions"
   ]
  },
  {
   "cell_type": "markdown",
   "metadata": {},
   "source": [
    "## Objectives\n",
    "You will be able to:\n",
    "* Create functions to model measures of central tendency and dispersion\n",
    "* Perform basic statistical analysis of given data using measures of central tendency and dispersion. "
   ]
  },
  {
   "cell_type": "markdown",
   "metadata": {},
   "source": [
    "## Introduction \n",
    "In this lab you'll dive deep into calculating the measures of central tendency and dispersion introduced in previous lessons. You will implement the code the formulas for these functions in Python which will require you to use the programming skills that you have gained in first two sections of the module. So let's get started with this."
   ]
  },
  {
   "cell_type": "markdown",
   "metadata": {},
   "source": [
    "### Dataset\n",
    "\n",
    "For this lab, we'll use the [NHIS dataset](http://people.ucsc.edu/~cdobkin/NHIS%202007%20data.csv) containing weights, heights and some other attributes for a number of surveyed individuals. The context of this survey is outside the scope this lab, so we'll just go ahead and load the heights column as a list for us to run some simple statistical experiments. We'll use the pandas library to import the data into our python environment. This process will be covered in detail in the next section. Let's do this for you to give you a head start.  "
   ]
  },
  {
   "cell_type": "code",
   "execution_count": 1,
   "metadata": {},
   "outputs": [
    {
     "data": {
      "text/html": [
       "<div>\n",
       "<style scoped>\n",
       "    .dataframe tbody tr th:only-of-type {\n",
       "        vertical-align: middle;\n",
       "    }\n",
       "\n",
       "    .dataframe tbody tr th {\n",
       "        vertical-align: top;\n",
       "    }\n",
       "\n",
       "    .dataframe thead th {\n",
       "        text-align: right;\n",
       "    }\n",
       "</style>\n",
       "<table border=\"1\" class=\"dataframe\">\n",
       "  <thead>\n",
       "    <tr style=\"text-align: right;\">\n",
       "      <th></th>\n",
       "      <th>HHX</th>\n",
       "      <th>FMX</th>\n",
       "      <th>FPX</th>\n",
       "      <th>SEX</th>\n",
       "      <th>BMI</th>\n",
       "      <th>SLEEP</th>\n",
       "      <th>educ</th>\n",
       "      <th>height</th>\n",
       "      <th>weight</th>\n",
       "    </tr>\n",
       "  </thead>\n",
       "  <tbody>\n",
       "    <tr>\n",
       "      <th>0</th>\n",
       "      <td>16</td>\n",
       "      <td>1</td>\n",
       "      <td>2</td>\n",
       "      <td>1</td>\n",
       "      <td>33.36</td>\n",
       "      <td>8</td>\n",
       "      <td>16</td>\n",
       "      <td>74</td>\n",
       "      <td>260</td>\n",
       "    </tr>\n",
       "    <tr>\n",
       "      <th>1</th>\n",
       "      <td>20</td>\n",
       "      <td>1</td>\n",
       "      <td>1</td>\n",
       "      <td>1</td>\n",
       "      <td>26.54</td>\n",
       "      <td>7</td>\n",
       "      <td>14</td>\n",
       "      <td>70</td>\n",
       "      <td>185</td>\n",
       "    </tr>\n",
       "    <tr>\n",
       "      <th>2</th>\n",
       "      <td>69</td>\n",
       "      <td>1</td>\n",
       "      <td>2</td>\n",
       "      <td>2</td>\n",
       "      <td>32.13</td>\n",
       "      <td>7</td>\n",
       "      <td>9</td>\n",
       "      <td>61</td>\n",
       "      <td>170</td>\n",
       "    </tr>\n",
       "    <tr>\n",
       "      <th>3</th>\n",
       "      <td>87</td>\n",
       "      <td>1</td>\n",
       "      <td>1</td>\n",
       "      <td>1</td>\n",
       "      <td>26.62</td>\n",
       "      <td>8</td>\n",
       "      <td>14</td>\n",
       "      <td>68</td>\n",
       "      <td>175</td>\n",
       "    </tr>\n",
       "    <tr>\n",
       "      <th>4</th>\n",
       "      <td>88</td>\n",
       "      <td>1</td>\n",
       "      <td>1</td>\n",
       "      <td>2</td>\n",
       "      <td>27.13</td>\n",
       "      <td>8</td>\n",
       "      <td>13</td>\n",
       "      <td>66</td>\n",
       "      <td>168</td>\n",
       "    </tr>\n",
       "  </tbody>\n",
       "</table>\n",
       "</div>"
      ],
      "text/plain": [
       "   HHX  FMX  FPX  SEX    BMI  SLEEP  educ  height  weight\n",
       "0   16    1    2    1  33.36      8    16      74     260\n",
       "1   20    1    1    1  26.54      7    14      70     185\n",
       "2   69    1    2    2  32.13      7     9      61     170\n",
       "3   87    1    1    1  26.62      8    14      68     175\n",
       "4   88    1    1    2  27.13      8    13      66     168"
      ]
     },
     "execution_count": 1,
     "metadata": {},
     "output_type": "execute_result"
    }
   ],
   "source": [
    "import pandas as pd\n",
    "df = pd.read_csv('nhis.csv')\n",
    "df.head()"
   ]
  },
  {
   "cell_type": "markdown",
   "metadata": {},
   "source": [
    "We are only interested in the heigt column, so we'll save this now as a list."
   ]
  },
  {
   "cell_type": "code",
   "execution_count": 2,
   "metadata": {
    "scrolled": true
   },
   "outputs": [
    {
     "name": "stdout",
     "output_type": "stream",
     "text": [
      "4785\n",
      "[74, 70, 61, 68, 66, 98, 99, 70, 65, 64, 65, 66, 99, 61, 61, 65, 68, 64, 64, 66, 67, 72, 61, 96, 65, 61, 66, 64, 72, 64, 64, 71, 64, 72, 70, 66, 74, 76, 68, 66, 66, 69, 61, 64, 66, 69, 66, 71, 71, 63, 68, 75, 64, 62, 96, 65, 64, 60, 62, 61, 63, 72, 72, 63, 67, 65, 64, 61, 66, 65, 68, 64, 71, 65, 63, 64, 72, 65, 71, 72, 64, 65, 72, 69, 66, 64, 96, 66, 96, 69, 67, 66, 59, 60, 62, 70, 61, 66, 97, 96, 62, 67, 59, 70, 66, 60, 68, 67, 65, 71, 63, 63, 71, 67, 65, 66, 66, 70, 68, 64, 62, 60, 73, 68, 62, 61, 65, 66, 64, 60, 59, 61, 63, 98, 60, 62, 63, 65, 68, 72, 67, 72, 66, 61, 96, 64, 96, 64, 71, 72, 65, 67, 63, 68, 65, 96, 71, 62, 69, 64, 66, 63, 67, 69, 66, 61, 68, 60, 72, 70, 65, 67, 63, 69, 64, 96, 67, 74, 62, 69, 60, 73, 96, 67, 98, 62, 69, 64, 68, 72, 74, 72, 64, 66, 68, 65, 61, 69, 71, 66, 65, 68, 65, 68, 68, 72, 62, 60, 72, 71, 65, 62, 74, 71, 67, 67, 66, 69, 67, 66, 96, 72, 65, 61, 68, 98, 68, 70, 68, 70, 71, 65, 69, 98, 68, 70, 67, 60, 65, 63, 74, 67, 67, 63, 67, 69, 96, 67, 65, 64, 72, 72, 67, 63, 64, 65, 68, 65, 64, 99, 64, 61, 60, 63, 69, 96, 96, 64, 70, 73, 65, 68, 98, 70, 60, 67, 70, 66, 67, 66, 72, 73, 69, 67, 63, 70, 69, 63, 60, 70, 66, 70, 67, 66, 60, 96, 69, 62, 67, 64, 72, 70, 67, 68, 72, 61, 65, 69, 65, 66, 69, 66, 63, 64, 62, 72, 67, 72, 62, 67, 64, 67, 62, 64, 69, 64, 71, 60, 70, 69, 66, 69, 96, 96, 66, 70, 75, 69, 73, 71, 69, 66, 67, 72, 62, 96, 64, 65, 73, 70, 96, 70, 64, 73, 60, 96, 70, 70, 71, 73, 63, 68, 63, 67, 70, 64, 68, 62, 71, 72, 64, 69, 67, 69, 69, 70, 98, 62, 76, 96, 63, 65, 70, 75, 65, 70, 66, 68, 98, 65, 68, 64, 62, 62, 66, 64, 73, 66, 65, 64, 67, 67, 65, 99, 66, 67, 70, 72, 62, 67, 72, 68, 63, 70, 60, 65, 61, 65, 99, 65, 74, 72, 98, 70, 70, 65, 65, 68, 96, 66, 66, 73, 70, 74, 68, 67, 65, 96, 71, 68, 69, 68, 72, 63, 62, 66, 63, 96, 64, 70, 65, 67, 62, 73, 62, 66, 64, 64, 65, 96, 62, 68, 73, 63, 63, 66, 63, 64, 65, 73, 65, 66, 62, 72, 65, 61, 64, 67, 96, 62, 69, 75, 62, 65, 66, 63, 67, 66, 70, 61, 63, 62, 63, 65, 63, 69, 68, 64, 65, 63, 64, 72, 64, 63, 71, 62, 96, 69, 72, 68, 99, 67, 73, 73, 64, 66, 63, 66, 69, 71, 63, 74, 66, 96, 66, 66, 66, 62, 63, 64, 62, 96, 64, 71, 63, 74, 60, 73, 64, 66, 71, 65, 71, 66, 64, 71, 98, 60, 71, 99, 71, 72, 71, 72, 68, 60, 65, 64, 73, 70, 71, 72, 64, 76, 73, 60, 63, 63, 96, 63, 96, 60, 67, 71, 72, 64, 66, 67, 72, 65, 73, 65, 64, 66, 66, 71, 72, 62, 64, 70, 97, 69, 73, 74, 59, 67, 96, 67, 67, 68, 68, 68, 66, 64, 62, 65, 73, 96, 67, 72, 68, 66, 69, 63, 73, 62, 76, 64, 69, 73, 69, 68, 73, 68, 71, 65, 60, 68, 96, 66, 72, 74, 63, 64, 71, 96, 75, 96, 70, 68, 70, 65, 69, 62, 62, 76, 64, 62, 67, 74, 96, 70, 66, 98, 74, 62, 67, 74, 63, 96, 96, 69, 64, 69, 76, 64, 74, 72, 69, 68, 65, 60, 64, 62, 65, 67, 65, 62, 73, 73, 69, 66, 69, 64, 65, 70, 69, 63, 64, 97, 64, 70, 96, 67, 69, 69, 68, 68, 65, 71, 66, 65, 97, 62, 69, 75, 61, 98, 71, 70, 65, 69, 66, 67, 70, 73, 69, 74, 70, 64, 72, 97, 62, 67, 99, 70, 65, 63, 67, 67, 96, 72, 59, 72, 63, 59, 65, 72, 69, 72, 60, 66, 70, 60, 70, 64, 68, 71, 68, 64, 61, 70, 65, 61, 63, 68, 66, 76, 96, 68, 66, 70, 66, 64, 68, 65, 73, 66, 69, 63, 65, 71, 70, 70, 72, 65, 64, 62, 64, 96, 60, 68, 66, 66, 72, 67, 67, 69, 66, 96, 61, 68, 63, 62, 66, 62, 64, 66, 68, 65, 74, 70, 69, 67, 60, 96, 68, 66, 64, 69, 64, 63, 72, 64, 65, 68, 70, 67, 69, 66, 61, 66, 71, 96, 96, 66, 70, 63, 76, 64, 66, 70, 71, 71, 66, 64, 66, 96, 75, 67, 72, 98, 96, 71, 66, 67, 72, 74, 71, 64, 63, 65, 60, 66, 72, 62, 69, 70, 65, 70, 72, 63, 65, 75, 67, 62, 69, 67, 75, 66, 68, 67, 72, 67, 61, 60, 65, 66, 61, 65, 62, 72, 67, 62, 98, 71, 96, 66, 67, 65, 63, 70, 70, 71, 96, 63, 68, 66, 65, 63, 61, 62, 68, 63, 66, 67, 62, 63, 67, 68, 64, 98, 69, 66, 61, 63, 69, 64, 64, 72, 66, 60, 65, 74, 68, 71, 62, 65, 63, 65, 96, 65, 66, 72, 67, 63, 66, 69, 65, 65, 71, 73, 72, 68, 62, 64, 66, 63, 69, 63, 67, 59, 71, 64, 98, 71, 64, 65, 67, 65, 65, 71, 71, 59, 67, 68, 71, 98, 64, 67, 72, 76, 96, 98, 72, 68, 64, 69, 64, 62, 98, 71, 72, 62, 98, 71, 69, 65, 64, 60, 72, 96, 64, 72, 65, 70, 62, 62, 66, 72, 69, 63, 72, 72, 70, 67, 64, 65, 66, 69, 65, 67, 66, 65, 62, 60, 66, 67, 69, 61, 63, 64, 66, 96, 70, 63, 72, 96, 67, 69, 69, 64, 70, 67, 71, 64, 63, 74, 64, 73, 66, 70, 68, 61, 62, 65, 71, 69, 67, 61, 68, 60, 74, 65, 72, 60, 70, 62, 70, 72, 69, 67, 66, 71, 69, 59, 67, 65, 63, 63, 98, 62, 97, 66, 65, 64, 68, 64, 65, 65, 66, 67, 96, 68, 62, 97, 71, 70, 69, 61, 63, 66, 96, 59, 62, 71, 76, 70, 73, 71, 59, 63, 69, 64, 64, 66, 69, 66, 98, 71, 69, 98, 72, 67, 62, 75, 63, 67, 64, 61, 70, 67, 65, 66, 75, 62, 69, 74, 67, 68, 64, 69, 75, 66, 68, 64, 96, 72, 59, 75, 64, 66, 68, 68, 68, 96, 96, 69, 72, 63, 63, 96, 66, 63, 68, 67, 64, 64, 72, 64, 70, 75, 68, 70, 64, 64, 62, 66, 65, 66, 96, 75, 62, 74, 72, 66, 98, 69, 66, 61, 71, 66, 67, 64, 70, 68, 73, 71, 96, 66, 64, 96, 62, 65, 72, 68, 69, 68, 62, 69, 74, 66, 72, 72, 60, 76, 70, 67, 72, 63, 62, 68, 63, 73, 63, 71, 60, 65, 64, 62, 66, 61, 68, 96, 68, 67, 61, 67, 72, 72, 62, 68, 62, 68, 72, 99, 68, 68, 72, 66, 68, 96, 69, 63, 63, 64, 65, 73, 67, 64, 65, 65, 68, 63, 66, 64, 63, 65, 63, 74, 63, 67, 69, 73, 63, 62, 70, 63, 64, 69, 65, 69, 69, 66, 69, 60, 64, 60, 66, 67, 96, 67, 96, 63, 62, 70, 71, 64, 72, 69, 63, 96, 67, 69, 71, 66, 71, 64, 64, 72, 72, 70, 64, 65, 70, 97, 64, 65, 96, 64, 62, 71, 98, 64, 70, 66, 65, 67, 72, 64, 62, 68, 70, 96, 74, 62, 62, 69, 64, 67, 96, 71, 63, 71, 66, 70, 61, 68, 63, 96, 70, 62, 60, 64, 76, 63, 75, 63, 71, 70, 67, 96, 65, 64, 62, 68, 66, 68, 64, 72, 63, 71, 70, 96, 62, 61, 64, 69, 66, 75, 64, 68, 68, 65, 69, 71, 65, 96, 67, 66, 66, 65, 70, 64, 72, 68, 67, 65, 65, 64, 64, 64, 66, 63, 96, 74, 60, 63, 62, 96, 68, 65, 66, 74, 67, 63, 71, 67, 69, 73, 69, 62, 63, 67, 65, 68, 67, 71, 97, 68, 60, 65, 65, 96, 68, 68, 65, 70, 68, 70, 71, 67, 64, 64, 59, 59, 61, 65, 60, 70, 62, 60, 69, 62, 69, 68, 66, 62, 68, 64, 70, 64, 62, 69, 96, 66, 59, 68, 68, 73, 68, 67, 96, 76, 96, 65, 73, 64, 64, 71, 65, 62, 71, 60, 62, 65, 72, 69, 70, 71, 68, 96, 61, 96, 96, 65, 63, 66, 66, 62, 61, 66, 65, 61, 68, 65, 96, 64, 65, 70, 63, 60, 69, 63, 62, 60, 62, 67, 66, 65, 66, 72, 98, 68, 64, 67, 65, 96, 71, 72, 62, 98, 96, 96, 71, 63, 68, 67, 70, 65, 67, 66, 72, 67, 69, 67, 96, 70, 60, 61, 61, 65, 96, 73, 63, 96, 62, 76, 62, 99, 68, 63, 70, 71, 73, 65, 67, 64, 71, 60, 68, 65, 67, 67, 67, 69, 67, 65, 62, 71, 64, 60, 62, 66, 64, 69, 60, 60, 60, 66, 71, 62, 72, 63, 64, 72, 65, 72, 68, 66, 76, 69, 62, 97, 67, 65, 68, 66, 66, 70, 66, 72, 67, 72, 74, 64, 64, 74, 96, 99, 69, 67, 68, 98, 66, 63, 71, 61, 63, 69, 71, 71, 96, 63, 66, 62, 64, 59, 64, 69, 66, 68, 65, 65, 65, 72, 68, 98, 65, 71, 96, 72, 62, 63, 65, 66, 66, 65, 67, 68, 75, 67, 68, 68, 67, 64, 69, 73, 68, 72, 71, 65, 96, 62, 67, 67, 71, 70, 61, 69, 65, 66, 71, 61, 63, 65, 69, 73, 63, 63, 69, 72, 70, 60, 69, 66, 73, 71, 68, 63, 67, 66, 64, 75, 62, 70, 99, 96, 76, 65, 69, 71, 67, 70, 70, 72, 70, 61, 68, 61, 63, 68, 61, 63, 69, 98, 68, 96, 70, 62, 71, 73, 70, 75, 66, 74, 70, 64, 64, 68, 65, 69, 64, 73, 73, 68, 70, 75, 62, 63, 68, 67, 69, 66, 64, 61, 63, 60, 64, 62, 68, 74, 63, 62, 63, 66, 60, 66, 65, 65, 67, 69, 67, 62, 70, 64, 62, 96, 72, 66, 66, 69, 68, 74, 74, 97, 69, 96, 70, 73, 67, 63, 72, 66, 75, 63, 69, 68, 71, 70, 64, 65, 72, 70, 64, 67, 96, 64, 63, 70, 65, 68, 62, 66, 73, 63, 65, 66, 66, 74, 71, 96, 68, 73, 66, 70, 70, 68, 67, 66, 65, 69, 63, 64, 75, 66, 62, 68, 68, 70, 68, 70, 67, 69, 64, 68, 69, 65, 62, 71, 68, 66, 65, 67, 67, 62, 98, 66, 96, 67, 65, 70, 98, 62, 64, 70, 69, 96, 72, 67, 65, 62, 62, 68, 61, 96, 62, 64, 63, 69, 69, 65, 71, 66, 64, 72, 96, 68, 65, 72, 68, 64, 72, 64, 72, 96, 98, 60, 65, 73, 67, 65, 65, 66, 71, 96, 62, 60, 98, 59, 62, 70, 68, 70, 65, 72, 96, 69, 96, 68, 68, 66, 96, 63, 68, 62, 64, 65, 70, 62, 67, 68, 64, 64, 67, 66, 69, 65, 64, 99, 96, 64, 63, 72, 97, 71, 61, 70, 64, 70, 71, 59, 64, 69, 66, 74, 64, 64, 67, 63, 67, 64, 68, 61, 64, 69, 66, 67, 70, 63, 62, 66, 64, 63, 68, 64, 74, 65, 99, 66, 71, 74, 75, 65, 68, 66, 98, 66, 64, 68, 68, 67, 68, 70, 63, 59, 71, 64, 76, 67, 71, 68, 64, 96, 66, 66, 64, 96, 71, 96, 76, 71, 63, 96, 68, 96, 71, 73, 75, 63, 67, 72, 61, 65, 64, 62, 67, 65, 68, 68, 72, 59, 63, 70, 67, 68, 96, 73, 65, 66, 67, 64, 72, 75, 62, 65, 71, 72, 69, 62, 68, 72, 65, 62, 64, 73, 98, 65, 96, 74, 61, 63, 71, 69, 67, 69, 67, 69, 61, 66, 70, 60, 74, 61, 68, 62, 66, 61, 72, 73, 96, 96, 67, 70, 66, 64, 73, 67, 69, 60, 69, 68, 68, 67, 96, 75, 98, 75, 96, 70, 63, 61, 61, 70, 61, 96, 67, 69, 67, 71, 75, 63, 67, 70, 69, 66, 61, 68, 62, 68, 62, 66, 76, 62, 64, 61, 69, 63, 97, 69, 72, 75, 71, 70, 65, 66, 96, 66, 69, 61, 69, 68, 65, 96, 60, 68, 63, 71, 62, 72, 73, 66, 68, 63, 70, 62, 71, 68, 97, 70, 62, 68, 69, 64, 76, 65, 63, 64, 68, 61, 61, 63, 71, 76, 65, 68, 64, 64, 96, 68, 68, 71, 63, 62, 70, 65, 67, 64, 62, 64, 61, 64, 67, 72, 70, 60, 70, 64, 67, 59, 69, 67, 69, 96, 61, 70, 68, 71, 69, 69, 68, 68, 63, 96, 61, 64, 62, 96, 74, 64, 65, 72, 69, 64, 69, 68, 65, 61, 73, 63, 60, 65, 75, 61, 67, 66, 70, 69, 67, 59, 75, 64, 65, 66, 67, 61, 70, 96, 61, 69, 68, 63, 65, 69, 63, 64, 70, 61, 99, 64, 63, 67, 96, 67, 64, 68, 74, 72, 67, 96, 64, 63, 65, 66, 71, 61, 61, 96, 68, 68, 68, 65, 64, 96, 69, 67, 64, 63, 60, 69, 64, 64, 65, 65, 67, 72, 68, 68, 69, 64, 72, 97, 67, 65, 59, 66, 64, 67, 74, 70, 70, 68, 71, 65, 66, 61, 70, 70, 69, 69, 65, 66, 66, 67, 63, 68, 98, 67, 68, 64, 74, 98, 65, 63, 64, 68, 63, 70, 66, 68, 96, 69, 61, 65, 96, 62, 73, 64, 66, 96, 61, 67, 66, 66, 64, 75, 67, 72, 67, 72, 74, 62, 63, 60, 72, 62, 64, 62, 62, 69, 64, 67, 67, 61, 64, 66, 74, 59, 69, 68, 65, 66, 73, 75, 67, 66, 71, 65, 99, 71, 69, 73, 64, 72, 64, 97, 67, 76, 64, 59, 69, 69, 66, 73, 71, 67, 65, 68, 65, 96, 62, 72, 71, 67, 69, 98, 96, 65, 72, 64, 62, 63, 96, 73, 98, 65, 69, 62, 73, 74, 73, 71, 61, 69, 68, 63, 64, 62, 72, 72, 66, 96, 62, 96, 69, 96, 96, 63, 64, 66, 63, 62, 69, 67, 64, 63, 68, 68, 72, 73, 63, 66, 65, 66, 73, 99, 66, 62, 96, 60, 64, 96, 96, 66, 75, 66, 69, 74, 71, 62, 64, 72, 96, 71, 68, 76, 64, 61, 67, 96, 66, 96, 61, 60, 68, 72, 64, 67, 68, 96, 71, 67, 67, 67, 70, 96, 68, 64, 72, 64, 67, 63, 68, 70, 98, 62, 65, 71, 64, 76, 66, 99, 69, 75, 60, 72, 71, 61, 69, 68, 76, 61, 63, 69, 65, 99, 68, 73, 66, 69, 99, 62, 67, 73, 61, 98, 96, 67, 66, 70, 70, 96, 73, 65, 96, 68, 70, 63, 61, 67, 64, 61, 64, 62, 72, 97, 64, 66, 73, 72, 60, 71, 64, 68, 99, 66, 62, 75, 72, 64, 72, 99, 69, 60, 65, 68, 66, 74, 60, 68, 63, 96, 66, 69, 67, 64, 73, 60, 72, 66, 63, 65, 67, 64, 60, 66, 70, 65, 67, 72, 65, 70, 61, 60, 71, 63, 70, 70, 73, 62, 62, 67, 68, 61, 71, 69, 62, 98, 63, 64, 67, 65, 60, 96, 67, 68, 72, 96, 64, 66, 66, 64, 71, 67, 62, 70, 97, 69, 64, 64, 71, 68, 68, 68, 64, 69, 62, 65, 64, 64, 64, 65, 67, 65, 63, 71, 74, 68, 75, 96, 68, 69, 73, 67, 61, 67, 68, 69, 65, 66, 67, 65, 69, 69, 63, 66, 67, 76, 65, 67, 68, 67, 65, 65, 69, 61, 96, 67, 71, 63, 73, 68, 63, 62, 65, 66, 67, 63, 70, 62, 74, 66, 73, 66, 64, 69, 60, 68, 64, 73, 59, 66, 65, 96, 69, 67, 63, 66, 67, 61, 76, 67, 76, 64, 67, 62, 67, 70, 67, 64, 67, 62, 64, 68, 64, 68, 68, 69, 96, 67, 63, 67, 69, 72, 68, 67, 66, 70, 64, 65, 67, 62, 63, 71, 68, 67, 68, 96, 61, 65, 74, 62, 64, 65, 66, 70, 67, 63, 75, 60, 68, 96, 66, 67, 60, 64, 72, 96, 64, 70, 66, 65, 67, 68, 73, 68, 73, 97, 65, 96, 63, 70, 63, 73, 68, 61, 64, 71, 64, 65, 98, 72, 63, 65, 62, 64, 72, 96, 65, 70, 70, 63, 70, 67, 68, 72, 67, 62, 67, 70, 65, 64, 72, 72, 68, 69, 75, 69, 60, 64, 71, 67, 68, 71, 64, 67, 96, 66, 63, 66, 70, 62, 65, 61, 68, 67, 67, 61, 67, 59, 69, 65, 63, 71, 69, 71, 96, 72, 68, 60, 63, 66, 70, 65, 72, 62, 76, 68, 68, 64, 68, 67, 68, 64, 73, 75, 71, 96, 66, 73, 67, 64, 73, 71, 96, 66, 72, 63, 70, 70, 98, 72, 67, 67, 99, 64, 67, 63, 70, 70, 67, 70, 67, 72, 63, 66, 65, 65, 60, 96, 72, 61, 67, 70, 64, 70, 66, 67, 72, 63, 64, 73, 67, 73, 67, 75, 68, 69, 69, 63, 66, 74, 68, 64, 64, 68, 65, 63, 66, 97, 67, 64, 68, 63, 75, 63, 64, 65, 63, 64, 67, 67, 62, 68, 65, 64, 72, 99, 65, 98, 65, 97, 60, 64, 61, 73, 72, 96, 62, 68, 63, 96, 74, 75, 70, 64, 64, 68, 66, 70, 68, 63, 67, 67, 66, 62, 71, 74, 68, 71, 66, 69, 96, 96, 72, 99, 69, 61, 72, 96, 72, 70, 65, 63, 61, 65, 66, 66, 68, 68, 64, 70, 67, 66, 98, 66, 72, 64, 96, 72, 98, 97, 68, 70, 64, 63, 67, 69, 61, 72, 76, 66, 63, 68, 64, 71, 64, 68, 65, 67, 64, 65, 69, 63, 62, 69, 66, 64, 70, 67, 68, 62, 67, 64, 71, 63, 63, 66, 62, 96, 66, 64, 66, 68, 72, 97, 60, 96, 60, 66, 69, 69, 64, 62, 59, 96, 64, 69, 62, 67, 63, 72, 65, 69, 70, 67, 62, 66, 69, 67, 62, 72, 96, 67, 69, 69, 62, 64, 74, 63, 67, 70, 62, 68, 63, 99, 70, 96, 63, 64, 70, 96, 98, 64, 71, 66, 65, 68, 66, 73, 61, 72, 61, 67, 63, 64, 62, 66, 66, 71, 66, 71, 68, 67, 68, 64, 69, 74, 64, 96, 67, 61, 70, 70, 63, 66, 67, 97, 68, 71, 73, 62, 73, 67, 70, 64, 61, 65, 69, 60, 60, 64, 63, 64, 66, 71, 74, 64, 66, 64, 65, 61, 66, 74, 96, 99, 59, 67, 71, 62, 70, 66, 67, 68, 63, 61, 74, 65, 67, 63, 76, 67, 69, 96, 65, 65, 96, 68, 74, 60, 63, 67, 96, 62, 99, 64, 64, 96, 71, 66, 98, 73, 68, 97, 97, 96, 65, 69, 66, 63, 66, 65, 62, 66, 66, 66, 69, 70, 96, 66, 72, 63, 96, 67, 73, 61, 74, 66, 65, 66, 74, 66, 72, 70, 65, 73, 68, 63, 71, 65, 59, 75, 67, 68, 63, 70, 98, 61, 61, 69, 97, 69, 66, 68, 64, 64, 96, 70, 65, 68, 74, 64, 61, 69, 76, 70, 63, 69, 64, 68, 67, 68, 72, 65, 66, 72, 63, 60, 70, 60, 65, 97, 73, 63, 64, 67, 71, 67, 96, 66, 71, 68, 72, 66, 67, 62, 62, 69, 65, 75, 64, 70, 66, 72, 64, 61, 62, 73, 96, 63, 71, 68, 97, 70, 63, 62, 71, 63, 66, 73, 70, 64, 63, 75, 62, 65, 68, 98, 68, 66, 96, 71, 73, 69, 68, 73, 67, 69, 62, 66, 62, 62, 64, 67, 72, 76, 69, 75, 66, 96, 66, 62, 64, 65, 63, 66, 65, 73, 67, 66, 72, 70, 66, 70, 70, 69, 64, 96, 96, 66, 70, 68, 66, 73, 69, 61, 96, 59, 73, 69, 67, 69, 69, 67, 70, 73, 72, 62, 62, 69, 65, 66, 71, 75, 62, 72, 66, 60, 70, 63, 65, 71, 68, 66, 96, 72, 64, 96, 68, 67, 66, 61, 60, 72, 74, 62, 63, 61, 63, 96, 74, 71, 63, 71, 68, 97, 72, 74, 65, 73, 75, 66, 67, 73, 66, 72, 71, 98, 96, 70, 65, 62, 66, 61, 96, 64, 75, 74, 96, 66, 64, 96, 60, 61, 72, 67, 66, 67, 71, 62, 67, 64, 96, 62, 70, 69, 64, 60, 67, 69, 68, 66, 68, 96, 64, 63, 66, 65, 71, 71, 63, 64, 62, 69, 70, 74, 62, 66, 63, 64, 68, 70, 65, 63, 62, 69, 96, 69, 96, 65, 64, 64, 97, 59, 68, 67, 70, 66, 66, 69, 67, 96, 70, 75, 64, 60, 74, 62, 66, 72, 71, 75, 96, 64, 70, 96, 67, 97, 60, 71, 68, 66, 74, 67, 64, 65, 72, 67, 65, 65, 73, 65, 63, 66, 65, 64, 68, 62, 74, 72, 73, 65, 67, 63, 64, 70, 72, 98, 66, 70, 65, 59, 96, 70, 67, 61, 70, 68, 65, 60, 74, 61, 62, 65, 63, 66, 74, 60, 62, 72, 64, 74, 67, 64, 76, 75, 73, 67, 63, 67, 96, 66, 99, 66, 63, 70, 69, 96, 65, 96, 60, 67, 67, 74, 69, 74, 66, 68, 67, 68, 64, 60, 67, 96, 72, 72, 62, 59, 65, 70, 64, 64, 70, 66, 75, 71, 97, 64, 72, 96, 70, 72, 70, 69, 66, 66, 68, 73, 65, 65, 64, 64, 64, 66, 96, 66, 71, 68, 70, 64, 61, 64, 72, 64, 60, 64, 66, 64, 65, 72, 75, 66, 66, 73, 66, 72, 64, 64, 64, 59, 70, 69, 59, 74, 62, 63, 66, 70, 66, 64, 65, 73, 96, 59, 96, 61, 63, 66, 68, 72, 70, 70, 65, 71, 76, 96, 64, 69, 64, 64, 96, 60, 73, 73, 98, 73, 64, 63, 69, 68, 74, 96, 72, 70, 63, 65, 70, 65, 64, 65, 65, 71, 64, 67, 96, 63, 72, 64, 71, 66, 67, 68, 62, 70, 65, 63, 62, 59, 65, 67, 72, 67, 65, 63, 70, 63, 66, 63, 65, 72, 98, 64, 65, 63, 97, 67, 69, 68, 69, 61, 98, 59, 69, 65, 74, 96, 68, 72, 65, 68, 61, 62, 69, 64, 71, 96, 73, 72, 67, 62, 69, 96, 72, 64, 69, 66, 67, 65, 72, 96, 63, 72, 65, 96, 96, 96, 70, 96, 69, 68, 70, 73, 66, 76, 74, 68, 96, 65, 72, 69, 61, 72, 72, 70, 66, 67, 96, 65, 64, 69, 68, 64, 66, 69, 68, 64, 68, 68, 71, 62, 73, 73, 69, 67, 72, 71, 62, 65, 64, 63, 66, 70, 68, 64, 68, 73, 68, 65, 67, 71, 66, 66, 74, 68, 62, 69, 69, 64, 72, 69, 73, 65, 66, 71, 71, 62, 61, 70, 65, 60, 71, 71, 71, 70, 63, 67, 64, 66, 64, 69, 61, 70, 98, 71, 71, 62, 64, 66, 68, 66, 64, 67, 63, 65, 71, 70, 75, 96, 68, 73, 67, 73, 71, 66, 70, 65, 96, 96, 65, 68, 70, 63, 72, 62, 63, 62, 62, 67, 75, 71, 73, 69, 62, 96, 71, 66, 70, 64, 61, 74, 72, 71, 65, 69, 70, 62, 60, 72, 71, 68, 72, 69, 96, 66, 74, 65, 75, 64, 66, 67, 73, 74, 66, 73, 68, 69, 73, 65, 66, 66, 69, 71, 64, 62, 63, 62, 69, 65, 64, 72, 72, 68, 71, 64, 96, 72, 63, 67, 62, 72, 71, 65, 96, 66, 72, 72, 67, 74, 96, 69, 67, 74, 64, 60, 66, 64, 96, 72, 67, 60, 64, 61, 68, 59, 67, 72, 67, 59, 69, 75, 66, 63, 59, 63, 64, 75, 64, 96, 62, 68, 64, 66, 64, 63, 65, 72, 65, 61, 76, 66, 63, 66, 96, 70, 63, 62, 67, 64, 71, 61, 61, 67, 71, 65, 60, 65, 67, 66, 60, 66, 65, 72, 68, 76, 65, 67, 67, 67, 64, 59, 69, 61, 65, 72, 70, 66, 69, 64, 72, 66, 71, 96, 61, 67, 96, 72, 70, 68, 66, 66, 96, 72, 65, 66, 65, 60, 64, 63, 65, 73, 74, 96, 66, 63, 61, 66, 69, 63, 75, 70, 66, 65, 65, 68, 68, 68, 65, 68, 72, 70, 98, 63, 67, 71, 68, 70, 71, 97, 73, 96, 72, 63, 60, 66, 62, 64, 69, 67, 68, 69, 73, 73, 66, 71, 64, 69, 65, 63, 61, 73, 64, 69, 66, 98, 62, 65, 65, 63, 63, 60, 75, 75, 65, 60, 60, 64, 62, 66, 64, 59, 96, 71, 68, 72, 62, 69, 63, 63, 64, 59, 63, 71, 71, 96, 62, 69, 67, 96, 64, 75, 65, 60, 69, 67, 63, 74, 96, 67, 66, 73, 65, 71, 65, 65, 68, 98, 64, 72, 65, 64, 61, 68, 72, 75, 64, 64, 63, 64, 63, 62, 68, 67, 70, 71, 66, 67, 63, 68, 72, 67, 76, 64, 74, 72, 62, 67, 70, 64, 62, 71, 96, 98, 67, 63, 70, 70, 63, 70, 72, 96, 96, 70, 71, 69, 59, 61, 64, 64, 67, 62, 65, 71, 62, 66, 68, 71, 74, 69, 68, 75, 97, 61, 67, 64, 69, 64, 73, 68, 64, 72, 65, 66, 64, 71, 70, 61, 71, 74, 69, 73, 98, 63, 67, 60, 64, 67, 69, 70, 64, 63, 96, 67, 64, 64, 62, 74, 64, 67, 68, 74, 68, 96, 73, 65, 66, 71, 63, 68, 64, 65, 69, 69, 68, 68, 71, 61, 62, 62, 64, 60, 66, 66, 72, 96, 64, 96, 71, 73, 74, 68, 66, 71, 76, 67, 62, 60, 72, 66, 67, 66, 71, 69, 63, 72, 76, 68, 70, 72, 76, 69, 67, 70, 65, 66, 63, 60, 67, 68, 67, 65, 71, 60, 71, 66, 65, 70, 63, 63, 60, 69, 96, 96, 96, 64, 67, 71, 72, 70, 69, 66, 61, 66, 98, 64, 72, 96, 71, 60, 63, 64, 67, 73, 69, 62, 69, 96, 69, 69, 96, 97, 63, 62, 60, 64, 96, 74, 65, 71, 64, 69, 65, 66, 71, 70, 75, 59, 73, 68, 99, 63, 62, 60, 67, 75, 76, 63, 73, 75, 65, 60, 74, 65, 96, 66, 73, 69, 65, 64, 61, 66, 61, 76, 66, 63, 74, 98, 59, 73, 65, 66, 68, 62, 74, 76, 62, 68, 67, 63, 67, 68, 74, 67, 71, 72, 71, 64, 63, 65, 68, 67, 61, 96, 68, 64, 70, 61, 66, 71, 96, 96, 99, 64, 96, 66, 65, 71, 74, 69, 68, 65, 68, 63, 64, 73, 67, 64, 64, 70, 72, 73, 64, 63, 72, 97, 65, 70, 63, 96, 97, 67, 66, 67, 72, 67, 65, 67, 67, 96, 70, 65, 67, 74, 67, 65, 64, 69, 60, 63, 72, 71, 68, 62, 68, 98, 74, 68, 66, 71, 65, 68, 69, 59, 72, 62, 75, 61, 62, 71, 64, 61, 69, 69, 70, 73, 65, 67, 68, 96, 96, 76, 66, 70, 67, 70, 67, 67, 96, 61, 66, 62, 72, 98, 72, 71, 96, 66, 72, 66, 73, 74, 64, 63, 65, 62, 73, 63, 63, 69, 66, 74, 70, 60, 66, 66, 61, 98, 60, 63, 71, 63, 60, 60, 96, 67, 61, 69, 69, 70, 65, 65, 72, 66, 67, 62, 68, 68, 96, 66, 70, 69, 66, 70, 66, 64, 64, 68, 67, 62, 67, 97, 66, 69, 64, 67, 97, 73, 65, 71, 69, 67, 67, 60, 75, 67, 69, 68, 61, 64, 63, 67, 73, 97, 68, 64, 65, 64, 74, 72, 59, 62, 60, 69, 62, 71, 69, 59, 66, 63, 63, 62, 70, 70, 96, 96, 61, 68, 66, 96, 70, 60, 63, 62, 71, 96, 70, 59, 69, 60, 64, 65, 72, 71, 64, 66, 68, 66, 67, 62, 68, 70, 66, 70, 70, 63, 73, 67, 65, 65, 66, 72, 61, 64, 69, 71, 65, 64, 70, 62, 71, 68, 65, 96, 66, 63, 96, 64, 63, 68, 72, 64, 62, 64, 68, 69, 64, 68, 73, 72, 76, 68, 62, 67, 69, 69, 71, 61, 62, 68, 68, 66, 67, 64, 98, 75, 67, 96, 64, 64, 62, 63, 98, 60, 64, 74, 66, 64, 66, 69, 63, 70, 69, 69, 64, 64, 62]\n"
     ]
    }
   ],
   "source": [
    "height = df.height.values.tolist()\n",
    "print (len(height))\n",
    "print (height)"
   ]
  },
  {
   "cell_type": "markdown",
   "metadata": {},
   "source": [
    "So around 4700 records of height, thats great. How about plotting a histogram for these values. \n",
    "\n",
    "## Plotting Histograms\n",
    "\n",
    "In the cell below, Import matplotlib as we saw earlier and plot a histogram of these values. Use a bin size of 8. Considering the height in inches, record your initial observations in the following cell. "
   ]
  },
  {
   "cell_type": "code",
   "execution_count": 12,
   "metadata": {},
   "outputs": [
    {
     "data": {
      "text/plain": [
       "(array([ 611., 1533., 1328.,  755.,  120.,    0.,    0.,    0.,    0.,\n",
       "         438.]),\n",
       " array([59., 63., 67., 71., 75., 79., 83., 87., 91., 95., 99.]),\n",
       " <a list of 10 Patch objects>)"
      ]
     },
     "execution_count": 12,
     "metadata": {},
     "output_type": "execute_result"
    },
    {
     "data": {
      "image/png": "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\n",
      "text/plain": [
       "<Figure size 432x288 with 1 Axes>"
      ]
     },
     "metadata": {
      "needs_background": "light"
     },
     "output_type": "display_data"
    }
   ],
   "source": [
    "import matplotlib.pyplot as plt\n",
    "plt.hist(height)"
   ]
  },
  {
   "cell_type": "code",
   "execution_count": 17,
   "metadata": {},
   "outputs": [
    {
     "data": {
      "text/plain": [
       "(array([ 917., 1972., 1230.,  228.,    0.,    0.,    0.,  438.]),\n",
       " array([59., 64., 69., 74., 79., 84., 89., 94., 99.]),\n",
       " <a list of 8 Patch objects>)"
      ]
     },
     "execution_count": 17,
     "metadata": {},
     "output_type": "execute_result"
    },
    {
     "data": {
      "image/png": "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\n",
      "text/plain": [
       "<matplotlib.figure.Figure at 0x1084fdc88>"
      ]
     },
     "metadata": {},
     "output_type": "display_data"
    }
   ],
   "source": [
    "# Expected output below"
   ]
  },
  {
   "cell_type": "code",
   "execution_count": 1,
   "metadata": {},
   "outputs": [],
   "source": [
    "# There is an outlier height around 95-100"
   ]
  },
  {
   "cell_type": "markdown",
   "metadata": {},
   "source": [
    "Do you spot anything unsual above , some outliers maybe ?"
   ]
  },
  {
   "cell_type": "markdown",
   "metadata": {},
   "source": [
    "## Calculating mean "
   ]
  },
  {
   "cell_type": "markdown",
   "metadata": {},
   "source": [
    "So first let's calculate the mean for the height list. Recall the formula for calculating mean as shown earlier. \n",
    "\n",
    "![](mean.gif)\n",
    "\n",
    "Using the python skills you have learned so far, create a function `get_mean()` to perform following tasks: \n",
    "* Input a list of numbers (like the height list we have above)\n",
    "* calculate the sum of numbers and length of the list \n",
    "* Calculate mean from above, round off to 2 decimals and return it."
   ]
  },
  {
   "cell_type": "code",
   "execution_count": 13,
   "metadata": {},
   "outputs": [
    {
     "name": "stdout",
     "output_type": "stream",
     "text": [
      "3.0\n",
      "2.5\n"
     ]
    }
   ],
   "source": [
    "def get_mean(data):\n",
    "\n",
    "    mean = sum(data)/len(data)\n",
    "    \n",
    "    return mean\n",
    "\n",
    "test1 = [5, 4, 1, 3, 2]\n",
    "test2 = [4, 2, 3, 1]\n",
    "\n",
    "print(get_mean(test1)) # 3\n",
    "print(get_mean(test2)) # 2.5"
   ]
  },
  {
   "cell_type": "markdown",
   "metadata": {},
   "source": [
    "Now we'll test the function by passing in the height list."
   ]
  },
  {
   "cell_type": "code",
   "execution_count": 14,
   "metadata": {},
   "outputs": [
    {
     "name": "stdout",
     "output_type": "stream",
     "text": [
      "Sample Mean: 69.57826541274817\n"
     ]
    }
   ],
   "source": [
    "# After creating the function, pass the height list to the function \n",
    "mean = get_mean(height)\n",
    "\n",
    "# Uncomment following command after coding the function\n",
    "print(\"Sample Mean:\", mean)\n",
    "\n",
    "# Sample Mean: 69.58"
   ]
  },
  {
   "cell_type": "markdown",
   "metadata": {},
   "source": [
    "So we have our mean length, 69.5, and this confirms our observations from the histogram. But we also some outliers in out data above and we know outliers effect the mean calculation by pulling mean value in their direction.  So let's remove these outliers and create a new list to see if our mean shifts of stays. We'll use a threshold of 80 inches, i.e. filter out any values greater than 80. \n",
    " \n",
    "Perform following tasks:\n",
    "\n",
    "* Create a function `filter_list()` that inputs a list \n",
    "* Perform a for loop to iteratively check and aappend values to a new list if < 80. \n",
    "* Return the new list "
   ]
  },
  {
   "cell_type": "code",
   "execution_count": 15,
   "metadata": {},
   "outputs": [
    {
     "data": {
      "text/plain": [
       "[60, 70]"
      ]
     },
     "execution_count": 15,
     "metadata": {},
     "output_type": "execute_result"
    }
   ],
   "source": [
    "def filter_list(listA):\n",
    "    \n",
    "    listB = []\n",
    "    \n",
    "    for number in listA:\n",
    "        if number < 80:\n",
    "            listB.append(number)\n",
    "    \n",
    "    return listB\n",
    "\n",
    "test = [60, 70,80, 90]\n",
    "filter_list(test) # [60, 70]"
   ]
  },
  {
   "cell_type": "markdown",
   "metadata": {},
   "source": [
    "Great, now we can filter our height list and plot a new histogram for the new list to see if things change considerably.  "
   ]
  },
  {
   "cell_type": "code",
   "execution_count": 16,
   "metadata": {},
   "outputs": [],
   "source": [
    "# Filter the height list using above function\n",
    "height_filtered = filter_list(height)"
   ]
  },
  {
   "cell_type": "code",
   "execution_count": 19,
   "metadata": {},
   "outputs": [
    {
     "data": {
      "text/plain": [
       "(array([342., 575., 817., 794., 667., 515., 409., 228.]),\n",
       " array([59.   , 61.125, 63.25 , 65.375, 67.5  , 69.625, 71.75 , 73.875,\n",
       "        76.   ]),\n",
       " <a list of 8 Patch objects>)"
      ]
     },
     "execution_count": 19,
     "metadata": {},
     "output_type": "execute_result"
    },
    {
     "data": {
      "image/png": "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\n",
      "text/plain": [
       "<Figure size 432x288 with 1 Axes>"
      ]
     },
     "metadata": {
      "needs_background": "light"
     },
     "output_type": "display_data"
    }
   ],
   "source": [
    "# Plot a histogram for the filtered list - use 8 bins as before\n",
    "plt.hist(height_filtered,8)"
   ]
  },
  {
   "cell_type": "code",
   "execution_count": 41,
   "metadata": {},
   "outputs": [
    {
     "data": {
      "image/png": "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\n",
      "text/plain": [
       "<matplotlib.figure.Figure at 0x1a17c4d240>"
      ]
     },
     "metadata": {},
     "output_type": "display_data"
    }
   ],
   "source": [
    "# Expected output"
   ]
  },
  {
   "cell_type": "code",
   "execution_count": 18,
   "metadata": {},
   "outputs": [
    {
     "data": {
      "text/plain": [
       "66.85231193926846"
      ]
     },
     "execution_count": 18,
     "metadata": {},
     "output_type": "execute_result"
    }
   ],
   "source": [
    "# Get the mean of the new list using our get_mean() function\n",
    "get_mean(height_filtered)\n",
    "\n",
    "# 66.85"
   ]
  },
  {
   "cell_type": "markdown",
   "metadata": {},
   "source": [
    "Now based on your findings before and after the outliers in mean and histogram, record your observations below:"
   ]
  },
  {
   "cell_type": "code",
   "execution_count": 44,
   "metadata": {},
   "outputs": [],
   "source": [
    "# The mean changed significantly, and the histogram showed the data without the outlier"
   ]
  },
  {
   "cell_type": "markdown",
   "metadata": {},
   "source": [
    "Right, in some analytical situations we may not be able to exclude the outliers in such a naive manner. So let's calculate other measures of central tendency as well. We'll move on to calculating the median value for our original height data. "
   ]
  },
  {
   "cell_type": "markdown",
   "metadata": {},
   "source": [
    "## Calculating Median "
   ]
  },
  {
   "cell_type": "markdown",
   "metadata": {},
   "source": [
    "The median is the value directly in the middle of the a dataset. In statistical terms, this is the median quartile. If the dataset was sorted from lowest value to highest value, the median is the value that would be larger than the first 50% of the data, and smaller than the second 50%.\n",
    "\n",
    "If the dataset has an odd number of values, then the median is the middle number.\n",
    "If the datasaet has an even number of values, then we take the mean of the middle two numbers.\n",
    "\n",
    "In the cell below, write a function that takes in an array of numbers and returns the median value for that dataset. Make sure you first check for even / odd and perform computation accordingly. So its `Sorting > checking even/odd > calculating median`. Let's give it a try. \n",
    "\n",
    "(Hint: you can use modulo operator `%` in python to check if a value is even or odd)"
   ]
  },
  {
   "cell_type": "code",
   "execution_count": 31,
   "metadata": {},
   "outputs": [
    {
     "name": "stdout",
     "output_type": "stream",
     "text": [
      "4\n",
      "3.5\n"
     ]
    }
   ],
   "source": [
    "def get_median(data):\n",
    "\n",
    "    data.sort()\n",
    "    l = len(data)\n",
    "    if l%2 == 0:\n",
    "        median = (data[int(l/2)]+data[int(l/2+1)])/2\n",
    "        return median\n",
    "    else:\n",
    "        median = data[int(l/2+0.5)]\n",
    "        return median\n",
    "        \n",
    "    \n",
    "    # Check for even/odd and perform calculations accordingly - use if-else \n",
    "\n",
    "test1 = [5, 4, 1, 3, 2]\n",
    "test2 = [4, 2, 3, 1]\n",
    "\n",
    "print(get_median(test1)) # 3\n",
    "print(get_median(test2)) # 2.5"
   ]
  },
  {
   "cell_type": "markdown",
   "metadata": {},
   "source": [
    "Great, now we can pass in our height list to this function to check the median. "
   ]
  },
  {
   "cell_type": "code",
   "execution_count": 32,
   "metadata": {},
   "outputs": [
    {
     "data": {
      "text/plain": [
       "67"
      ]
     },
     "execution_count": 32,
     "metadata": {},
     "output_type": "execute_result"
    }
   ],
   "source": [
    "get_median(height)\n",
    "# 67"
   ]
  },
  {
   "cell_type": "markdown",
   "metadata": {},
   "source": [
    "So we have 67 , which is much closer to the filtered list mean (66.85) than the mean we calculated with actual list (69.58). So median in this case seems to be a much better indicative of the central tendency found in the dataset. \n",
    "\n",
    "But remember we also have mode ! Maybe this can give us an even better insight into the typical values in the dataset based on how frequent a value is. So let's calculate that. "
   ]
  },
  {
   "cell_type": "markdown",
   "metadata": {},
   "source": [
    "## Calculating Mode"
   ]
  },
  {
   "cell_type": "markdown",
   "metadata": {},
   "source": [
    "The mode is the value that shows up the most in a dataset. A dataset can have 0 or more modes. If no value shows up more than once, the dataset is considered to have no mode value. If two numbers show up the same number of times, that dataset is considered bimodal. Datasets where multiple values all show up the same number of times are considered multimodal.\n",
    "\n",
    "In the cell below, write a function that takes in an list of numbers and returns another list containing the mode value(s). In case of only one mode, the list would have a single element. \n",
    "\n",
    "Hint: Building frequency distribution table using dictionaries is probably the easiest way to approach this problem. Use each unique element from the height list as a key, and frequency of this element as the value and build a dictionary. You can then simply identify the keys (heights) with maximum values. "
   ]
  },
  {
   "cell_type": "code",
   "execution_count": 42,
   "metadata": {},
   "outputs": [
    {
     "name": "stdout",
     "output_type": "stream",
     "text": [
      "[5]\n",
      "[1, 5]\n"
     ]
    }
   ],
   "source": [
    "def get_mode(data):\n",
    "\n",
    "    # Create and populate frequency distribution\n",
    "    frequency_dict = {}\n",
    "    for datum in data:\n",
    "        if datum in frequency_dict:\n",
    "            frequency_dict[datum] += 1\n",
    "        else:\n",
    "            frequency_dict[datum] = 1\n",
    "    \n",
    "    # For all elements in the list:\n",
    "    # If an element is not in the dictionary , add it with value 1\n",
    "    # If an element is already in the dictionary , +1 the value\n",
    "    \n",
    "    \n",
    "    # Create a list for mode values\n",
    "    modes = []\n",
    "    max_value = 0\n",
    "    for key in frequency_dict.keys():\n",
    "        if frequency_dict[key] > max_value:\n",
    "            modes.clear()\n",
    "            modes.append(key)\n",
    "            max_value = frequency_dict[key]\n",
    "        elif frequency_dict[key] == max_value:\n",
    "            modes.append(key)\n",
    "    \n",
    "    #from the dictionary, add element(s) to the modes list with max frequency\n",
    "\n",
    "    # Return the mode list \n",
    "    return modes\n",
    "\n",
    "test1 = [1, 2, 3, 5, 5, 4]\n",
    "test2 = [1, 1, 1, 2, 3, 4, 5, 5, 5]\n",
    "\n",
    "print(get_mode(test1)) # [5]\n",
    "print(get_mode(test2)) # [1, 5]"
   ]
  },
  {
   "cell_type": "markdown",
   "metadata": {},
   "source": [
    "Thats done. Now can see calculate mode and compare it with our mean and median values. "
   ]
  },
  {
   "cell_type": "code",
   "execution_count": 43,
   "metadata": {
    "scrolled": true
   },
   "outputs": [
    {
     "data": {
      "text/plain": [
       "[64]"
      ]
     },
     "execution_count": 43,
     "metadata": {},
     "output_type": "execute_result"
    }
   ],
   "source": [
    "get_mode(height)"
   ]
  },
  {
   "cell_type": "markdown",
   "metadata": {},
   "source": [
    "So the mode value is much lower than our mean and median calculated earlier. What do you make of this? The answer to that could be subjective and depends on the problem. i.e. If your problem is to identify sizes for garments that would sell the most, you can not disregard mode. However, if you want to get an idea about the general or typical height of individuals, you can probably still do with median and average. \n",
    "\n",
    "To get an even clearer picture, We know we need to see how much the values deviate from the central values we have identified. We have seen variance and standard deviation before as measures of such dispersion. Let's have a go at these to strengthen our understanding around this data. \n"
   ]
  },
  {
   "cell_type": "markdown",
   "metadata": {},
   "source": [
    "## Calculate Variance\n",
    "\n",
    "The formula for variance, has been shown earlier as: \n",
    "![](variance.jpg)"
   ]
  },
  {
   "cell_type": "markdown",
   "metadata": {},
   "source": [
    "You are required to write a function In the cell below, that takes an array of numbers as input and returns the Variance of the sample as output."
   ]
  },
  {
   "cell_type": "code",
   "execution_count": 47,
   "metadata": {},
   "outputs": [
    {
     "name": "stdout",
     "output_type": "stream",
     "text": [
      "2.2222222222222223\n",
      "3.3333333333333335\n",
      "2.888888888888889\n"
     ]
    }
   ],
   "source": [
    "def get_variance(sample):\n",
    "\n",
    "    # First, calculate the sample mean using get_mean()\n",
    "    sample_mean = get_mean(sample)\n",
    "    \n",
    "    # Now, subtract the sample mean from each point and square the result. \n",
    "    squares = [(x-sample_mean)**2 for x in sample]\n",
    "    \n",
    "    # Divde the total by the number of items in the sample to calculate variance \n",
    "    variance = sum(squares)/len(squares)\n",
    "    \n",
    "    return variance\n",
    "\n",
    "test1 = [1, 2, 3, 5, 5, 4]\n",
    "test2 = [1, 1, 1, 2, 3, 4, 5, 5, 5]\n",
    "print(get_variance(test1)) # 2.22\n",
    "print(get_mean(test1)) # 3.33\n",
    "print(get_variance(test2)) # 2.89\n"
   ]
  },
  {
   "cell_type": "markdown",
   "metadata": {},
   "source": [
    "Now we can test the variance of our height list with get_variance() function. "
   ]
  },
  {
   "cell_type": "code",
   "execution_count": 48,
   "metadata": {},
   "outputs": [
    {
     "data": {
      "text/plain": [
       "87.7264241594408"
      ]
     },
     "execution_count": 48,
     "metadata": {},
     "output_type": "execute_result"
    }
   ],
   "source": [
    "get_variance(height)\n",
    "# 87.74"
   ]
  },
  {
   "cell_type": "markdown",
   "metadata": {},
   "source": [
    "So this value, as we learned earlier, tells us a a bit about the deviation but not in the units of underlying data. This is because it squares the values of deviations. Standard deviation, however, can deal with this issue as it takes the square roots of differences. So that would probably be a bit more revealing. "
   ]
  },
  {
   "cell_type": "markdown",
   "metadata": {},
   "source": [
    "## Calculate Standard Deviation"
   ]
  },
  {
   "cell_type": "markdown",
   "metadata": {},
   "source": [
    "In the cell below, write a function that takes an array of numbers as input and returns the standard deviation of that sample as output.\n",
    "\n",
    "Recall that the formula for Standard Deviation is:\n",
    "\n",
    "![](std.gif)\n",
    "\n",
    "you would need `sqrt` method from math library to calculate the square root. "
   ]
  },
  {
   "cell_type": "markdown",
   "metadata": {},
   "source": [
    "**Note:** *Alternatively, another approach to finding the square root of a number would be to raise that number to the power of `0.5`. For example, if we wanted to find the square root of `100`, we could raise `100` to the power of `0.5`, which would give us the number `10.0`. However, **either** approach will work.*\n",
    "\n",
    "```python\n",
    "100**0.5\n",
    "# 10.0\n",
    "\n",
    "from math import sqrt\n",
    "sqrt(100)\n",
    "# 10.0\n",
    "```"
   ]
  },
  {
   "cell_type": "code",
   "execution_count": 49,
   "metadata": {},
   "outputs": [
    {
     "name": "stdout",
     "output_type": "stream",
     "text": [
      "76.71085682975752\n"
     ]
    }
   ],
   "source": [
    "from math import sqrt\n",
    "\n",
    "def get_stddev(list):\n",
    "\n",
    "    mean = get_mean(list)\n",
    "    \n",
    "    stddev = get_variance(list)**0.5\n",
    "    \n",
    "    return stddev\n",
    "\n",
    "test = [120,112,131,211,312,90]\n",
    "\n",
    "print (get_stddev(test))\n",
    "# 76.7"
   ]
  },
  {
   "cell_type": "markdown",
   "metadata": {},
   "source": [
    "So now we can finally calculate stndard deviation for our height list and inspect the results. "
   ]
  },
  {
   "cell_type": "code",
   "execution_count": 50,
   "metadata": {},
   "outputs": [
    {
     "data": {
      "text/plain": [
       "9.366238527789093"
      ]
     },
     "execution_count": 50,
     "metadata": {},
     "output_type": "execute_result"
    }
   ],
   "source": [
    "get_stddev(height)\n",
    "# 9.31"
   ]
  },
  {
   "cell_type": "markdown",
   "metadata": {},
   "source": [
    "So 9.3 inches is how the deviation is present in our dataset. As we are still including outlier values, this might still slightly be effected but these results are now much more reliable. \n",
    "\n",
    "We shall finally build a boxplot for height data and see if it agrees with our understanding for this data that we have developed up to this point. USe the matplotlib's boxplot method with height data and comment on the output "
   ]
  },
  {
   "cell_type": "markdown",
   "metadata": {},
   "source": [
    "## Build a BoxPlot"
   ]
  },
  {
   "cell_type": "markdown",
   "metadata": {},
   "source": [
    "Follow the boxplot method shown earier and build a boxplot for height data. See if you can spot the outliers? Are the observations gathered from boxplot inline with our calculations? "
   ]
  },
  {
   "cell_type": "code",
   "execution_count": null,
   "metadata": {},
   "outputs": [],
   "source": [
    "# Build a box plot for the height data "
   ]
  },
  {
   "cell_type": "code",
   "execution_count": 54,
   "metadata": {},
   "outputs": [
    {
     "data": {
      "text/plain": [
       "Text(0.5,1,'Height Data')"
      ]
     },
     "execution_count": 54,
     "metadata": {},
     "output_type": "execute_result"
    },
    {
     "data": {
      "image/png": "iVBORw0KGgoAAAANSUhEUgAAAlkAAAF1CAYAAADbfv+XAAAABHNCSVQICAgIfAhkiAAAAAlwSFlzAAALEgAACxIB0t1+/AAAADl0RVh0U29mdHdhcmUAbWF0cGxvdGxpYiB2ZXJzaW9uIDIuMi4zLCBodHRwOi8vbWF0cGxvdGxpYi5vcmcvIxREBQAAFihJREFUeJzt3X+s5XWd3/HXe52golUGuBhgdVFD2N34g6VX4ppIzI52hawCG02xrbLoik39sW5/aU3rjE261Q2GuGlKMirIulsqorto1qUS0rg1qbYXRB3ELSqCoyNcYfxJu4i++8c9tHfHizNzz/3MvefM45HcnHu+5/s95x3+mDz5fr7ne6u7AwDAxvqFzR4AAGAeiSwAgAFEFgDAACILAGAAkQUAMIDIAgAYQGQBW0pVva2q3neI++6qqj8ZPRPAeogsYENV1der6oUHbPudqvr0oRzf3X/Q3b87apYDXn9BVf20qn44+dlbVddW1XMO4zOEHrAmkQUc7b7V3Y9P8neSPDfJl5P8t6rasbljAbNOZAFHXFWdUlUfqarlqrqzqt606rW/dWaoql5VVXdV1X1V9W/WODt1TFX9cVX9oKpuq6rFyXEfTPKUJB+fnKX6lz9vpl6xt7vfnuR9Sd61aob3VNU3qur7VXVzVT1/sv3FSd6W5O9PPuPzk+2XVNXtk5m+VlWvm/o/GjBzRBZwRFXVLyT5eJLPJzk1yY4kb66q31xj319N8h+T/MMkJyd54uSY1V6a5D8nOS7Jx5L8hyTp7lcmuTvJS7r78d39h4cx5keTnFVVj5s8/59JzkxyfJL/lOTDVfWY7r4hyR8k+dDkM5492f/eJL+V5AlJLklyeVWddRifD8wBkQWM8OdV9d2Hf7ISSg97TpKF7v633f1gd38tyXuTXLTG+7wsyce7+9Pd/WCStyc58A+ufrq7P9HdP0nywSTPPvBN1uFbSSor4Zbu/pPuvq+7H+rudyd5dJIzHung7v6L7v7q5OzYp5J8MsnzN2AuYIaILGCEC7r7uId/kvyTVa/9UpJTDoiwtyV50hrvc0qSbzz8pLsfSHLfAft8e9XvDyR5TFVtm3L+U7MSc99Nkqr6Z5Plv+9N5n1ikhMf6eCqOreqPlNV90/2P+/n7Q/Mp2n/IQI4XN9Icmd3n34I++7LqjNGVfXYJCccxmcdeNbrUF2Y5Jbu/tHk+qu3ZGVZ87bu/mlV7c/Kma6f+YyqenSSjyR5VZLru/vHVfXnq/YHjhLOZAFH2v9I8v2qektVPbaqHlVVz3iE2yZcl+QlVfW8qjomyTtyeLFyT5KnHcqOteLUqtqZ5HezcnYtWfnW4UNJlpNsq6q3Z+Vaq9WfcdrkWrMkOSYry4nLSR6qqnOT/L3DmBmYEyILOKIm1069JCsXkt+Z5DtZ+TbfE9fY97Ykb8zKhe37kvwgKxeV/80hfty/T/KvJ8uS//wR9jmlqn6Y5IdZucD9mUle0N2fnLz+X5L8ZZL/leSuJP8nq5Ywk3x48nhfVd3S3T9I8qYk1ybZn+QfZOWCfOAoU93rPZsOcGRV1eOzcp3U6d1952bPA/DzOJMFbGlV9ZKqOnZyO4XLknwxydc3dyqAgxNZwFZ3flZuqfCtJKcnuaidggdmgOVCAIABnMkCABhAZAEADLAlbkZ64okn9mmnnbbZYwAAHNTNN9/8ne5eONh+WyKyTjvttCwtLW32GAAAB1VVdx3KfpYLAQAGEFkAAAMcNLKq6sqqureq9qzadnxV3VhVd0wet0+2V1X9UVV9paq+UFVnjRweAGCrOpQzWR9I8uIDtr01yU3dfXqSmybPk+TcrNws8PQklya5YmPGBACYLQeNrO7+qyT3H7D5/CRXT36/OskFq7b/ca/4TJLjqurkjRoWAGBWrPearCd1974kmTyeNNl+av72X6ffO9n2M6rq0qpaqqql5eXldY4BALA1bfSF77XGtjX/bk937+7uxe5eXFg46K0mAABmynoj656HlwEnj/dOtu9N8uRV+/1iVv6oKwDAUWW9kfWxJBdPfr84yfWrtr9q8i3D5yb53sPLigAAR5OD3vG9qq5J8oIkJ1bV3iQ7k7wzybVV9Zokdyd5+WT3TyQ5L8lXkjyQ5JIBMwP8XFU/e+VC95pXLgAMc9DI6u5XPMJLO9bYt5O8ftqhANZrdWDt2rUru3bt+n/bhRZwJLnjOzCXujs7d+4UVsCmEVnA3Hn47NUjPQc4Emor/F/e4uJiLy0tbfYYwBx4eLlw9b9ta20DWK+qurm7Fw+2nzNZwFyqqrzjHe9Y8yJ4gCNBZAFzZfXZqtXLhM5iAUfaQb9dCDBrBBWwFYgsYO64TxawFVguBObK6sB65jOfueZ2gCPBmSxgLq317UKAI8mZLGDurD6DtdZzgCNBZAFz54tf/OLPfQ5wJIgsYC5VVZ71rGdZKgQ2jcgC5srqa7FWn8Hy7ULgSBNZAAADiCxgrqxeHrzkkkvW3A5wJIgsYC51d6688krLhMCmEVnA3Fl9Bmut5wBHQm2F/8tbXFzspaWlzR4DmAMPLwuudTPSrfDvHTD7qurm7l482H7OZAFzqary6le/2rVYwKYRWcBcWX226qqrrlpzO8CR4G8XAnNHUAFbgcgC5s5aS4TCCzjSLBcCc+WRrsFybRZwpDmTBcyltb5dCHAkOZMFADCAyAIAGMByITCXLBECm82ZLGCuPNK3CH27EDjSpoqsqvq9qtpTVbdV1Zsn23ZV1Ter6tbJz3kbMyrAoenun/kBONLWvVxYVc9I8tokZyd5MMkNVfUXk5cv7+7LNmA+AICZNM01Wb+S5DPd/UCSVNWnkly4IVMBAMy4aZYL9yQ5p6pOqKpjk5yX5MmT195QVV+oqiuravtaB1fVpVW1VFVLy8vLU4wBALD1rDuyuvv2JO9KcmOSG5J8PslDSa5I8vQkZybZl+Tdj3D87u5e7O7FhYWF9Y4BALAlTXXhe3e/v7vP6u5zktyf5I7uvqe7f9LdP03y3qxcswUAcFSZ9tuFJ00en5Lkt5NcU1Unr9rlwqwsKwIAHFWmvRnpR6rqhCQ/TvL67t5fVR+sqjOTdJKvJ3ndlJ8BADBzpoqs7n7+GtteOc17AgDMA3d8BwAYQGQBAAwgsgAABhBZAAADiCwAgAFEFgDAACILAGAAkQUAMIDIAgAYQGQBAAwgsgAABhBZAAADiCwAgAFEFgDAACILAGAAkQUAMIDIAgAYQGQBAAwgsgAABhBZAAADiCwAgAFEFgDAACILAGAAkQUAMIDIAgAYQGQBAAwgsgAABhBZAAADTBVZVfV7VbWnqm6rqjdPth1fVTdW1R2Tx+0bMyoAwOxYd2RV1TOSvDbJ2UmeneS3qur0JG9NclN3n57kpslzAICjyjRnsn4lyWe6+4HufijJp5JcmOT8JFdP9rk6yQXTjQgAMHumiaw9Sc6pqhOq6tgk5yV5cpIndfe+JJk8nrTWwVV1aVUtVdXS8vLyFGMAAGw9646s7r49ybuS3JjkhiSfT/LQYRy/u7sXu3txYWFhvWMAAGxJU1343t3v7+6zuvucJPcnuSPJPVV1cpJMHu+dfkwAgNky7bcLT5o8PiXJbye5JsnHklw82eXiJNdP8xkAALNo25THf6SqTkjy4ySv7+79VfXOJNdW1WuS3J3k5dMOCQAwa6aKrO5+/hrb7kuyY5r3BQCYde74DgAwgMgCABhAZAEADCCyAAAGEFkAAAOILACAAUQWAMAAIgsAYACRBQAwgMgCABhAZAEADCCyAAAGEFkAAAOILACAAUQWAMAAIgsAYACRBQAwgMgCABhAZAEADCCyAAAGEFkAAAOILACAAUQWAMAAIgsAYACRBQAwgMgCABhAZAEADCCyAAAGmCqyqur3q+q2qtpTVddU1WOq6gNVdWdV3Tr5OXOjhgUAmBXb1ntgVZ2a5E1JfrW7/3dVXZvkosnL/6K7r9uIAQEAZtG0y4Xbkjy2qrYlOTbJt6YfCQBg9q07srr7m0kuS3J3kn1Jvtfdn5y8/O+q6gtVdXlVPXqt46vq0qpaqqql5eXl9Y4BALAlrTuyqmp7kvOTPDXJKUkeV1X/KMm/SvLLSZ6T5Pgkb1nr+O7e3d2L3b24sLCw3jEAALakaZYLX5jkzu5e7u4fJ/lokud1975e8TdJrkpy9kYMCgAwS6aJrLuTPLeqjq2qSrIjye1VdXKSTLZdkGTP9GMCAMyWdX+7sLs/W1XXJbklyUNJPpdkd5K/rKqFJJXk1iT/eCMGBQCYJeuOrCTp7p1Jdh6w+TemeU8AgHngju8AAAOILACAAUQWAMAAIgsAYACRBQAwgMgCABhAZAEADCCyAAAGEFkAAAOILACAAUQWAMAAIgsAYACRBQAwgMgCABhAZAEADCCyAAAGEFkAAAOILACAAUQWAMAAIgsAYACRBQAwgMgCABhAZAEADCCyAAAGEFkAAAOILACAAUQWAMAAIgsAYICpIquqfr+qbquqPVV1TVU9pqqeWlWfrao7qupDVXXMRg0LADAr1h1ZVXVqkjclWezuZyR5VJKLkrwryeXdfXqS/UlesxGDAgDMkmmXC7cleWxVbUtybJJ9SX4jyXWT169OcsGUnwEAMHPWHVnd/c0klyW5Oytx9b0kNyf5bnc/NNltb5JT1zq+qi6tqqWqWlpeXl7vGAAAW9I0y4Xbk5yf5KlJTknyuCTnrrFrr3V8d+/u7sXuXlxYWFjvGAAAW9I0y4UvTHJndy9394+TfDTJ85IcN1k+TJJfTPKtKWcEAJg500TW3UmeW1XHVlUl2ZHkS0n+a5KXTfa5OMn1040IADB7prkm67NZucD9liRfnLzX7iRvSfJPq+orSU5I8v4NmBMAYKZsO/guj6y7dybZecDmryU5e5r3BQCYde74DgAwgMgCABhAZAEADCCyAAAGEFkAAAOILACAAUQWAMAAIgsAYACRBQAwgMgCABhAZAEADCCyAAAGEFkAAAOILACAAUQWAMAAIgsAYACRBQAwgMgCABhAZAEADCCyAAAGEFkAAAOILACAAUQWAMAAIgsAYIBtmz0AQJJU1WaPcMi6e7NHAGaAyAK2hBHhUlWCCNg0lgsBAAYQWQAAA6x7ubCqzkjyoVWbnpbk7UmOS/LaJMuT7W/r7k+se0IAgBm07sjq7r9OcmaSVNWjknwzyZ8luSTJ5d192YZMCAAwgzZquXBHkq92910b9H4AADNtoyLroiTXrHr+hqr6QlVdWVXb1zqgqi6tqqWqWlpeXl5rFwCAmTV1ZFXVMUlemuTDk01XJHl6VpYS9yV591rHdffu7l7s7sWFhYVpxwAA2FI24kzWuUlu6e57kqS77+nun3T3T5O8N8nZG/AZAAAzZSMi6xVZtVRYVSeveu3CJHs24DMAAGbKVHd8r6pjk7woyetWbf7DqjozSSf5+gGvAQAcFaaKrO5+IMkJB2x75VQTAQDMAXd8BwAYQGQBAAwgsgAABhBZAAADiCwAgAFEFgDAACILAGAAkQUAMIDIAgAYQGQBAAwgsgAABhBZAAADiCwAgAFEFgDAACILAGAAkQUAMIDIAgAYQGQBAAwgsgAABhBZAAADiCwAgAFEFgDAACILAGAAkQUAMMC2zR4AmD3HH3989u/fv9ljHJKq2uwRDmr79u25//77N3sMYIOJLOCw7d+/P9292WPMjVkIQeDwWS4EABhAZAEADLDuyKqqM6rq1lU/36+qN1fV8VV1Y1XdMXncvpEDAwDMgnVHVnf/dXef2d1nJvm7SR5I8mdJ3prkpu4+PclNk+cAAEeVjVou3JHkq919V5Lzk1w92X51kgs26DMAAGbGRkXWRUmumfz+pO7elySTx5PWOqCqLq2qpapaWl5e3qAxAAC2hqkjq6qOSfLSJB8+nOO6e3d3L3b34sLCwrRjAABsKRtxJuvcJLd09z2T5/dU1clJMnm8dwM+AwBgpmxEZL0i/3+pMEk+luTiye8XJ7l+Az4DAGCmTBVZVXVskhcl+eiqze9M8qKqumPy2jun+QwAgFk01Z/V6e4HkpxwwLb7svJtQwCAo5Y7vgMADCCyAAAGEFkAAAOILACAAUQWAMAAIgsAYACRBQAwgMgCABhAZAEADCCyAAAGEFkAAAOILACAAUQWAMAAIgsAYACRBQAwgMgCABhAZAEADLBtswcAZk/vfEKy64mbPcbc6J1P2OwRgAFEFnDY6h3fT3dv9hhzo6rSuzZ7CmCjWS4EABhAZAEADCCyAAAGEFkAAAOILACAAUQWAMAAIgsAYACRBQAwgMgCABhgqsiqquOq6rqq+nJV3V5Vv15Vu6rqm1V16+TnvI0aFgBgVkz7Z3Xek+SG7n5ZVR2T5Ngkv5nk8u6+bOrpAABm1Lojq6qekOScJL+TJN39YJIHq2pjJgMAmGHTLBc+Lclykquq6nNV9b6qetzktTdU1Req6sqq2r7WwVV1aVUtVdXS8vLyFGMAAGw900TWtiRnJbmiu38tyY+SvDXJFUmenuTMJPuSvHutg7t7d3cvdvfiwsLCFGMAAGw900TW3iR7u/uzk+fXJTmru+/p7p9090+TvDfJ2dMOCQAwa9YdWd397STfqKozJpt2JPlSVZ28arcLk+yZYj4AgJk07bcL35jkTyffLPxakkuS/FFVnZmkk3w9yeum/AwAgJkzVWR1961JFg/Y/Mpp3hMAYB644zsAwAAiCwBggGmvyQKOUm48vHG2b1/zdoLAjBNZwGHr7s0e4ZBU1czMCswfy4UAAAOILACAAUQWAMAAIgsAYACRBQAwgMgCABhAZAEADCCyAAAGEFkAAAOILACAAUQWAMAAIgsAYACRBQAwgMgCABhAZAEADCCyAAAGEFkAAAOILACAAUQWAMAAIgsAYACRBQAwgMgCABhAZAEADCCyAAAGmCqyquq4qrquqr5cVbdX1a9X1fFVdWNV3TF53L5RwwIAzIppz2S9J8kN3f3LSZ6d5PYkb01yU3efnuSmyXMAgKPKuiOrqp6Q5Jwk70+S7n6wu7+b5PwkV092uzrJBdMOCQAwa6Y5k/W0JMtJrqqqz1XV+6rqcUme1N37kmTyeNIGzAkAMFOmiaxtSc5KckV3/1qSH+Uwlgar6tKqWqqqpeXl5SnGAADYeqaJrL1J9nb3ZyfPr8tKdN1TVScnyeTx3rUO7u7d3b3Y3YsLCwtTjAEAsPWsO7K6+9tJvlFVZ0w27UjypSQfS3LxZNvFSa6fakIAgBm0bcrj35jkT6vqmCRfS3JJVsLt2qp6TZK7k7x8ys8AAJg5U0VWd9+aZHGNl3ZM874AALPOHd8BAAYQWQAAA0x7TRbAhqiqmXnf7t7w9wTmj8gCtgThAswby4UAAAOILACAAUQWAMAAIgsAYACRBQAwgMgCABhAZAEADCCyAAAGEFkAAAOILACAAUQWAMAAIgsAYACRBQAwQG2Fv3xfVctJ7trsOYC5c2KS72z2EMDc+aXuXjjYTlsisgBGqKql7l7c7DmAo5PlQgCAAUQWAMAAIguYZ7s3ewDg6OWaLACAAZzJAgAYQGQBc6eqrqyqe6tqz2bPAhy9RBYwjz6Q5MWbPQRwdBNZwNzp7r9Kcv9mzwEc3UQWAMAAIgsAYACRBQAwgMgCABhAZAFzp6quSfLfk5xRVXur6jWbPRNw9HHHdwCAAZzJAgAYQGQBAAwgsgAABhBZAAADiCwAgAFEFgDAACILAGAAkQUAMMD/BXVd/JEWO/BTAAAAAElFTkSuQmCC\n",
      "text/plain": [
       "<Figure size 720x432 with 1 Axes>"
      ]
     },
     "metadata": {
      "needs_background": "light"
     },
     "output_type": "display_data"
    }
   ],
   "source": [
    "import matplotlib.pyplot as plt\n",
    "% matplotlib inline\n",
    "\n",
    "plt.figure(figsize=(10,6))\n",
    "plt.boxplot(height)\n",
    "plt.title('Height Data')"
   ]
  },
  {
   "cell_type": "code",
   "execution_count": 23,
   "metadata": {},
   "outputs": [],
   "source": [
    "# Record your observations here \n"
   ]
  },
  {
   "cell_type": "markdown",
   "metadata": {},
   "source": [
    "### Findings\n",
    "So there we have it. We have done an indepth analysis of individuals' heights using measure of central tendency of the data (67 - 68) inches, and the standard spread of the data to be around 9 inches around the mean. So we can expect MOST of the individuals to lie between 64 to 71 inches. These figures have been confirmed by our calculations as well as visual analysis of the data with histograms and boxplots. \n",
    "\n",
    "We shall learn how o further this analysis using more sophisticated statistical methods as models as we progress through the course. We shall also learn how these basic techniques provide you with a strong foundation to develop your intuitions for machine learning and predictive analysis. "
   ]
  },
  {
   "cell_type": "markdown",
   "metadata": {},
   "source": [
    "## Summary \n",
    "\n",
    "In this lab, we performed a basic, yet detailed statistical analysis around measuring the tendencies of center and spread in a given dataset. We looked at building a number of functions for calculate different measures and also used some statistical visualizations to strengthen our intuitions around the dataset. We shall see how we can simplify this process as we study numpy and pandas libraries to ease out the programming load while calculating basic statistics. "
   ]
  }
 ],
 "metadata": {
  "kernelspec": {
   "display_name": "Python 3",
   "language": "python",
   "name": "python3"
  },
  "language_info": {
   "codemirror_mode": {
    "name": "ipython",
    "version": 3
   },
   "file_extension": ".py",
   "mimetype": "text/x-python",
   "name": "python",
   "nbconvert_exporter": "python",
   "pygments_lexer": "ipython3",
<<<<<<< HEAD
   "version": "3.7.0"
=======
   "version": "3.6.6"
>>>>>>> 03aec02c4106462e6c4feb008391550611a4588a
  }
 },
 "nbformat": 4,
 "nbformat_minor": 2
}
